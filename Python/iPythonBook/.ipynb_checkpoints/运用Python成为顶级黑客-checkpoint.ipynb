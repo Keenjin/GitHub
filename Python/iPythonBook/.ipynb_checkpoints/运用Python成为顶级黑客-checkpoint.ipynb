{
 "cells": [
  {
   "cell_type": "markdown",
   "metadata": {},
   "source": [
    "# 运用Python成为顶级黑客代码学习"
   ]
  },
  {
   "cell_type": "markdown",
   "metadata": {},
   "source": [
    "# 1 入门"
   ]
  },
  {
   "cell_type": "markdown",
   "metadata": {},
   "source": [
    "## 1.1 查看服务版本号\n",
    "只要连接到局域网，ip的网段相同，覆盖总体范围192.168.31.1~192.168.31.255，即可把所有的ftp服务版本号扫描出来，如果发现某个版本是有已知漏洞，即可利用。同理，可扩展到其他端口服务"
   ]
  },
  {
   "cell_type": "code",
   "execution_count": 7,
   "metadata": {},
   "outputs": [
    {
     "name": "stdout",
     "output_type": "stream",
     "text": [
      "b'220 Microsoft FTP Service\\r\\n'\n"
     ]
    }
   ],
   "source": [
    "import socket\n",
    "socket.setdefaulttimeout(2)\n",
    "s = socket.socket()\n",
    "s.connect(('192.168.31.19',21))\n",
    "ans = s.recv(1024)\n",
    "print(ans)"
   ]
  },
  {
   "cell_type": "markdown",
   "metadata": {},
   "source": [
    "完整版程序\n",
    "有漏洞的服务版本号通过文件传递给程序，socket连接后，对比接收到的版本号名称即可发现是否有漏洞"
   ]
  },
  {
   "cell_type": "code",
   "execution_count": 1,
   "metadata": {},
   "outputs": [
    {
     "name": "stdout",
     "output_type": "stream",
     "text": [
      "[-] Usage: d:\\python\\python37-32\\lib\\site-packages\\ipykernel_launcher.py <vuln filename>\n"
     ]
    }
   ],
   "source": [
    "import socket\n",
    "import os\n",
    "import sys\n",
    "\n",
    "def retBanner(ip, port):\n",
    "    try:\n",
    "        socket.setdefaulttimeout(2)\n",
    "        s = socket.socket()\n",
    "        s.connect((ip, port))\n",
    "        banner = s.recv(1024)\n",
    "        return banner\n",
    "    except:\n",
    "        return\n",
    "\n",
    "def checkVulns(banner, filename):\n",
    "    f = open(filename, 'r')\n",
    "    for line in f.readlines():\n",
    "        if line.strip('\\n') in banner:\n",
    "            print('[+] Server is vulnerable:', banner.strip('\\n'))\n",
    "            \n",
    "def main():\n",
    "    if len(sys.argv) == 2:\n",
    "        filename = sys.argv[1]\n",
    "        if not os.path.isfile(filename):\n",
    "            print('[-]',filename,'does not exist.')\n",
    "            exit(0)\n",
    "        if not os.access(filename, os.R_OK):\n",
    "            print('[-]',filename,'access denied.')\n",
    "            exit(0)\n",
    "    else:\n",
    "        print('[-] Usage:', str(sys.argv[0]), '<vuln filename>')\n",
    "        exit(0)\n",
    "        portList = [21,22,25,80,110,443]\n",
    "        for x in range(147, 150):\n",
    "            ip = '192.168.95.' + str(x)\n",
    "            for port in portList:\n",
    "                banner = retBanner(ip, port)\n",
    "                if banner:\n",
    "                    print('[+]',ip,':',banner)\n",
    "                    checkVulns(banner, filename)\n",
    "                    \n",
    "if __name__ == '__main__':\n",
    "    main()"
   ]
  },
  {
   "cell_type": "code",
   "execution_count": null,
   "metadata": {},
   "outputs": [],
   "source": []
  }
 ],
 "metadata": {
  "kernelspec": {
   "display_name": "Python 3",
   "language": "python",
   "name": "python3"
  },
  "language_info": {
   "codemirror_mode": {
    "name": "ipython",
    "version": 3
   },
   "file_extension": ".py",
   "mimetype": "text/x-python",
   "name": "python",
   "nbconvert_exporter": "python",
   "pygments_lexer": "ipython3",
   "version": "3.7.2"
  }
 },
 "nbformat": 4,
 "nbformat_minor": 2
}
