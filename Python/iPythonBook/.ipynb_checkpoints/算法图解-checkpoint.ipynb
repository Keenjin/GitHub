{
 "cells": [
  {
   "cell_type": "markdown",
   "metadata": {},
   "source": [
    "# 1 大O表示法"
   ]
  },
  {
   "cell_type": "code",
   "execution_count": 4,
   "metadata": {},
   "outputs": [
    {
     "data": {
      "image/png": "[encoded data removed]",
      "text/plain": [
       "<Figure size 432x288 with 1 Axes>"
      ]
     },
     "metadata": {
      "needs_background": "light"
     },
     "output_type": "display_data"
    }
   ],
   "source": [
    "import numpy as np\n",
    "import matplotlib.pyplot as plt\n",
    "\n",
    "x = np.arange(1,9,0.1)\n",
    "plt.plot(x,np.log2(x),color='red',label='$log(n)$')\n",
    "plt.legend(loc='upper right',frameon=False)\n",
    "plt.ylim(0, 15)\n",
    "\n",
    "plt.plot(x,x,color='black',label='$n$')\n",
    "plt.legend(loc='upper right',frameon=False)\n",
    "\n",
    "plt.plot(x,x*np.log2(x),color='blue',label='$n*log(n)$')\n",
    "plt.legend(loc='upper right',frameon=False)\n",
    "\n",
    "plt.plot(x,x**2,color='green',label='$n^2$')\n",
    "plt.legend(loc='upper right',frameon=False)\n",
    "\n",
    "xn = np.arange(1,9,1)\n",
    "yn = []\n",
    "for i in xn:\n",
    "    yn.append(np.math.factorial(i))\n",
    "plt.plot(xn,yn,color='yellow',label='$n!$')\n",
    "plt.legend(loc='upper right',frameon=False)\n",
    "\n",
    "plt.show()"
   ]
  },
  {
   "cell_type": "markdown",
   "metadata": {},
   "source": [
    "# 2 排序算法"
   ]
  },
  {
   "cell_type": "markdown",
   "metadata": {},
   "source": [
    "选择排序：\n",
    "时间复杂度O(n^2)\n",
    "（1）每次从头找到最小的元素，放到新的数组，一次操作的时间复杂度为O(n)\n",
    "（2）针对n个元素，都执行（1）中操作"
   ]
  },
  {
   "cell_type": "code",
   "execution_count": null,
   "metadata": {},
   "outputs": [],
   "source": [
    "def sort(array_in):\n",
    "    array_out = []\n",
    "    while len(array_in) > 0:\n",
    "        min = array_in[0]\n",
    "        for i in array_in[1:]:\n",
    "            if min > i:\n",
    "                min = i\n",
    "                array_in.pop(i)\n",
    "        array_out.append(min)\n",
    "    return array_out"
   ]
  },
  {
   "cell_type": "markdown",
   "metadata": {},
   "source": [
    "快速排序：\n",
    "时间复杂度与选取的基准数有关系，平均情况下的时间复杂度O(nlogn)，最糟糕的时间复杂度O(n^2)\n",
    "（1）利用递归的思想\n",
    "（2）每次从数组中选一个数i（比如第一个），大于它的放到新的数组A，小于它的放到新的数组B，返回 [A i B]\n",
    "（3）数组A和数组B分别重复（2）过程"
   ]
  },
  {
   "cell_type": "code",
   "execution_count": null,
   "metadata": {},
   "outputs": [],
   "source": [
    "def qsort(array_in):\n",
    "    if len(array_in) < 2:\n",
    "        return array_in\n",
    "    else:\n",
    "        base_num = array_in[0]\n",
    "        array_left = []\n",
    "        array_right = []\n",
    "        for i in array_in[1]:\n",
    "            if i < base_num:\n",
    "                array_left.append(i)\n",
    "            else:\n",
    "                array_right.append(i)\n",
    "        return qsort(array_left) + [base_num] + qsort(array_right)"
   ]
  },
  {
   "cell_type": "markdown",
   "metadata": {},
   "source": [
    "合并排序：\n",
    "时间复杂度O(nlogn)\n",
    "（1）利用递归的思想\n",
    "（2）先用二分法，将数组递归拆分成2组，直到最后每组只有1个数（拆分过程O(logn)）\n",
    "（3）最后使用merge方法，两组一merge（merge过程O(n)）"
   ]
  },
  {
   "cell_type": "code",
   "execution_count": null,
   "metadata": {},
   "outputs": [],
   "source": [
    "def merge_sort(array_in):\n",
    "    if len(array_in) < 2:\n",
    "        return array_in\n",
    "    else:\n",
    "        array_left = array_in[0:len(array_in)/2]\n",
    "        array_right = array_in[len(array_in)/2+1:]\n",
    "        new_array_left = merge_sort(array_left)\n",
    "        new_array_right = merge_sort(array_right)\n",
    "        array_out = []\n",
    "        while len(new_array_left) > 0:\n",
    "            if len(new_array_right) = 0:\n",
    "                array_out = array_out + new_array_left\n",
    "                new_array_left = []\n",
    "            else if new_array_left[0] < new_array_right[0]:\n",
    "                array_out.append(new_array_left[0])\n",
    "                new_array_left.pop(new_array_left[0])\n",
    "            else:\n",
    "                array_out.append(new_array_right[0])\n",
    "                new_array_right.pop(new_array_right[0])\n",
    "        return array_out"
   ]
  },
  {
   "cell_type": "markdown",
   "metadata": {},
   "source": [
    "# 3 散列表"
   ]
  },
  {
   "cell_type": "code",
   "execution_count": null,
   "metadata": {},
   "outputs": [],
   "source": [
    "时间复杂度O(1)\n",
    "散列函数构造方法：\n",
    "（1）直接定址法  H(key) = a*key+b\n",
    "（2）数字分析法：特殊情况，从key中找规律，例如key中某些位的组合，刚好是能表示散列空间\n",
    "（3）除留余数法：H(key) = key mod p\n",
    "（4）平方取中法：假如有以下关键字序列{421，423，436}，平方之后的结果为{177241，178929，190096}，那么可以取{72，89，00}作为Hash地址。\n",
    "（5）折叠法：将key拆解为几组，按照不同方式叠加，和的最后几位作为新key\n",
    "（6）随机数法：H(key) = random(key)"
   ]
  }
 ],
 "metadata": {
  "kernelspec": {
   "display_name": "Python 3",
   "language": "python",
   "name": "python3"
  },
  "language_info": {
   "codemirror_mode": {
    "name": "ipython",
    "version": 3
   },
   "file_extension": ".py",
   "mimetype": "text/x-python",
   "name": "python",
   "nbconvert_exporter": "python",
   "pygments_lexer": "ipython3",
   "version": "3.7.2"
  }
 },
 "nbformat": 4,
 "nbformat_minor": 2
}
